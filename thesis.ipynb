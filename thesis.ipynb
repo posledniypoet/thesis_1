{
 "cells": [
  {
   "cell_type": "code",
   "execution_count": 1,
   "id": "6e7944d8-1456-4345-bd46-79e18ba42722",
   "metadata": {
    "scrolled": true,
    "ExecuteTime": {
     "end_time": "2024-04-20T19:46:30.690693Z",
     "start_time": "2024-04-20T19:46:29.727279Z"
    }
   },
   "outputs": [
    {
     "name": "stdout",
     "output_type": "stream",
     "text": [
      "Requirement already satisfied: pandas in /opt/miniconda3/lib/python3.12/site-packages (2.2.2)\r\n",
      "Requirement already satisfied: numpy>=1.26.0 in /opt/miniconda3/lib/python3.12/site-packages (from pandas) (1.26.4)\r\n",
      "Requirement already satisfied: python-dateutil>=2.8.2 in /opt/miniconda3/lib/python3.12/site-packages (from pandas) (2.8.2)\r\n",
      "Requirement already satisfied: pytz>=2020.1 in /opt/miniconda3/lib/python3.12/site-packages (from pandas) (2023.3.post1)\r\n",
      "Requirement already satisfied: tzdata>=2022.7 in /opt/miniconda3/lib/python3.12/site-packages (from pandas) (2024.1)\r\n",
      "Requirement already satisfied: six>=1.5 in /opt/miniconda3/lib/python3.12/site-packages (from python-dateutil>=2.8.2->pandas) (1.16.0)\r\n",
      "/opt/miniconda3/bin/python3\n"
     ]
    }
   ],
   "source": [
    "!pip install pandas\n",
    "import sys\n",
    "print(sys.executable) "
   ]
  },
  {
   "cell_type": "code",
   "execution_count": 2,
   "id": "7cfef067-92ec-4ca7-88f4-2cfac4b8c782",
   "metadata": {
    "ExecuteTime": {
     "end_time": "2024-04-20T19:46:32.011151Z",
     "start_time": "2024-04-20T19:46:31.985284Z"
    }
   },
   "outputs": [
    {
     "name": "stdout",
     "output_type": "stream",
     "text": [
      "  code_module code_presentation  id_student  date_registration  \\\n",
      "0         AAA             2013J       11391             -159.0   \n",
      "1         AAA             2013J       28400              -53.0   \n",
      "2         AAA             2013J       30268              -92.0   \n",
      "3         AAA             2013J       31604              -52.0   \n",
      "4         AAA             2013J       32885             -176.0   \n",
      "\n",
      "   date_unregistration  \n",
      "0                  NaN  \n",
      "1                  NaN  \n",
      "2                 12.0  \n",
      "3                  NaN  \n",
      "4                  NaN  \n"
     ]
    }
   ],
   "source": [
    "import pandas as pd\n",
    "data = pd.read_csv('studentRegistration.csv')\n",
    "print(data.head())\n",
    "moduleData = pd.read_csv('courses.csv')"
   ]
  },
  {
   "cell_type": "code",
   "execution_count": 3,
   "id": "0f3675a3-4791-4363-b4eb-1b9d9be44259",
   "metadata": {
    "ExecuteTime": {
     "end_time": "2024-04-20T19:46:33.412477Z",
     "start_time": "2024-04-20T19:46:33.394867Z"
    }
   },
   "outputs": [
    {
     "name": "stdout",
     "output_type": "stream",
     "text": [
      "<class 'pandas.core.frame.DataFrame'>\n",
      "RangeIndex: 32593 entries, 0 to 32592\n",
      "Data columns (total 5 columns):\n",
      " #   Column               Non-Null Count  Dtype  \n",
      "---  ------               --------------  -----  \n",
      " 0   code_module          32593 non-null  object \n",
      " 1   code_presentation    32593 non-null  object \n",
      " 2   id_student           32593 non-null  int64  \n",
      " 3   date_registration    32548 non-null  float64\n",
      " 4   date_unregistration  10072 non-null  float64\n",
      "dtypes: float64(2), int64(1), object(2)\n",
      "memory usage: 1.2+ MB\n"
     ]
    }
   ],
   "source": [
    "data.info()"
   ]
  },
  {
   "cell_type": "code",
   "execution_count": 4,
   "id": "4edf4307-fef3-44f6-9420-136a100c4858",
   "metadata": {
    "ExecuteTime": {
     "end_time": "2024-04-20T19:46:33.999259Z",
     "start_time": "2024-04-20T19:46:33.995Z"
    }
   },
   "outputs": [
    {
     "data": {
      "text/plain": "code_module                0\ncode_presentation          0\nid_student                 0\ndate_registration         45\ndate_unregistration    22521\ndtype: int64"
     },
     "execution_count": 4,
     "metadata": {},
     "output_type": "execute_result"
    }
   ],
   "source": [
    "data.isna().sum()"
   ]
  },
  {
   "cell_type": "code",
   "execution_count": 5,
   "id": "3b096a70-50ae-4157-9693-78154c471e63",
   "metadata": {
    "ExecuteTime": {
     "end_time": "2024-04-20T19:46:38.282720Z",
     "start_time": "2024-04-20T19:46:38.278887Z"
    }
   },
   "outputs": [
    {
     "data": {
      "text/plain": "code_module\nBBB    7909\nFFF    7762\nDDD    6272\nCCC    4434\nEEE    2934\nGGG    2534\nAAA     748\nName: count, dtype: int64"
     },
     "execution_count": 5,
     "metadata": {},
     "output_type": "execute_result"
    }
   ],
   "source": [
    "data['code_module'].value_counts()"
   ]
  },
  {
   "cell_type": "code",
   "execution_count": 6,
   "id": "2a9caff7-41c8-4c50-bec5-c1763e6a719c",
   "metadata": {
    "ExecuteTime": {
     "end_time": "2024-04-20T19:46:38.974467Z",
     "start_time": "2024-04-20T19:46:38.943427Z"
    }
   },
   "outputs": [
    {
     "name": "stdout",
     "output_type": "stream",
     "text": [
      "['AAA' 'BBB' 'CCC' 'DDD' 'EEE' 'FFF' 'GGG']\n"
     ]
    }
   ],
   "source": [
    "print(data['code_module'].unique())"
   ]
  },
  {
   "cell_type": "code",
   "execution_count": 7,
   "id": "42df773e-736c-4e75-8929-950c871029be",
   "metadata": {
    "ExecuteTime": {
     "end_time": "2024-04-20T19:46:39.387027Z",
     "start_time": "2024-04-20T19:46:39.384382Z"
    }
   },
   "outputs": [
    {
     "name": "stdout",
     "output_type": "stream",
     "text": [
      "['2013J' '2014J' '2013B' '2014B']\n"
     ]
    }
   ],
   "source": [
    "print(moduleData['code_presentation'].unique())"
   ]
  },
  {
   "cell_type": "code",
   "execution_count": 8,
   "id": "d1b99b75-8b61-425f-b2cb-460e826adb80",
   "metadata": {
    "ExecuteTime": {
     "end_time": "2024-04-20T19:46:39.820214Z",
     "start_time": "2024-04-20T19:46:39.817595Z"
    }
   },
   "outputs": [],
   "source": [
    "data['date_unregistration'] = data['date_unregistration'].fillna(0)"
   ]
  },
  {
   "cell_type": "code",
   "execution_count": 9,
   "id": "6b4f47a2-3356-43a7-85d7-8475ed93406f",
   "metadata": {
    "ExecuteTime": {
     "end_time": "2024-04-20T19:46:40.284276Z",
     "start_time": "2024-04-20T19:46:40.271962Z"
    }
   },
   "outputs": [],
   "source": [
    "AAAdata = data[data['code_module'] == 'AAA']\n",
    "BBBdata = data[data['code_module'] == 'BBB']\n",
    "CCCdata = data[data['code_module'] == 'CCC']\n",
    "DDDdata = data[data['code_module'] == 'DDD']\n",
    "EEEdata = data[data['code_module'] == 'EEE']\n",
    "FFFdata = data[data['code_module'] == 'FFF']\n",
    "GGGdata = data[data['code_module'] == 'GGG']"
   ]
  },
  {
   "cell_type": "code",
   "execution_count": 10,
   "id": "c6b01302-a5f6-4263-8a14-24dec4af0851",
   "metadata": {
    "ExecuteTime": {
     "end_time": "2024-04-20T19:46:42.332971Z",
     "start_time": "2024-04-20T19:46:41.115658Z"
    }
   },
   "outputs": [
    {
     "name": "stdout",
     "output_type": "stream",
     "text": [
      "Requirement already satisfied: seaborn in /opt/miniconda3/lib/python3.12/site-packages (0.13.2)\r\n",
      "Requirement already satisfied: numpy!=1.24.0,>=1.20 in /opt/miniconda3/lib/python3.12/site-packages (from seaborn) (1.26.4)\r\n",
      "Requirement already satisfied: pandas>=1.2 in /opt/miniconda3/lib/python3.12/site-packages (from seaborn) (2.2.2)\r\n",
      "Requirement already satisfied: matplotlib!=3.6.1,>=3.4 in /opt/miniconda3/lib/python3.12/site-packages (from seaborn) (3.8.4)\r\n",
      "Requirement already satisfied: contourpy>=1.0.1 in /opt/miniconda3/lib/python3.12/site-packages (from matplotlib!=3.6.1,>=3.4->seaborn) (1.2.1)\r\n",
      "Requirement already satisfied: cycler>=0.10 in /opt/miniconda3/lib/python3.12/site-packages (from matplotlib!=3.6.1,>=3.4->seaborn) (0.12.1)\r\n",
      "Requirement already satisfied: fonttools>=4.22.0 in /opt/miniconda3/lib/python3.12/site-packages (from matplotlib!=3.6.1,>=3.4->seaborn) (4.51.0)\r\n",
      "Requirement already satisfied: kiwisolver>=1.3.1 in /opt/miniconda3/lib/python3.12/site-packages (from matplotlib!=3.6.1,>=3.4->seaborn) (1.4.5)\r\n",
      "Requirement already satisfied: packaging>=20.0 in /opt/miniconda3/lib/python3.12/site-packages (from matplotlib!=3.6.1,>=3.4->seaborn) (23.2)\r\n",
      "Requirement already satisfied: pillow>=8 in /opt/miniconda3/lib/python3.12/site-packages (from matplotlib!=3.6.1,>=3.4->seaborn) (10.3.0)\r\n",
      "Requirement already satisfied: pyparsing>=2.3.1 in /opt/miniconda3/lib/python3.12/site-packages (from matplotlib!=3.6.1,>=3.4->seaborn) (3.1.2)\r\n",
      "Requirement already satisfied: python-dateutil>=2.7 in /opt/miniconda3/lib/python3.12/site-packages (from matplotlib!=3.6.1,>=3.4->seaborn) (2.8.2)\r\n",
      "Requirement already satisfied: pytz>=2020.1 in /opt/miniconda3/lib/python3.12/site-packages (from pandas>=1.2->seaborn) (2023.3.post1)\r\n",
      "Requirement already satisfied: tzdata>=2022.7 in /opt/miniconda3/lib/python3.12/site-packages (from pandas>=1.2->seaborn) (2024.1)\r\n",
      "Requirement already satisfied: six>=1.5 in /opt/miniconda3/lib/python3.12/site-packages (from python-dateutil>=2.7->matplotlib!=3.6.1,>=3.4->seaborn) (1.16.0)\r\n"
     ]
    },
    {
     "data": {
      "text/plain": "(array([3.0000e+00, 1.9000e+01, 1.2200e+02, 8.1800e+02, 2.7057e+04,\n        2.3180e+03, 1.7460e+03, 5.0900e+02, 0.0000e+00, 1.0000e+00]),\n array([-365. , -284.1, -203.2, -122.3,  -41.4,   39.5,  120.4,  201.3,\n         282.2,  363.1,  444. ]),\n <BarContainer object of 10 artists>)"
     },
     "execution_count": 10,
     "metadata": {},
     "output_type": "execute_result"
    },
    {
     "data": {
      "text/plain": "<Figure size 640x480 with 1 Axes>",
      "image/png": "[encoded data removed]"
     },
     "metadata": {},
     "output_type": "display_data"
    }
   ],
   "source": [
    "!pip install seaborn\n",
    "import seaborn as sns\n",
    "import matplotlib.pyplot as plt\n",
    "plt.hist(data['date_unregistration'])"
   ]
  },
  {
   "cell_type": "code",
   "execution_count": 11,
   "id": "9ceb1b87-a876-4b9e-8a32-004eda00f680",
   "metadata": {
    "ExecuteTime": {
     "end_time": "2024-04-20T19:46:42.528403Z",
     "start_time": "2024-04-20T19:46:42.515472Z"
    }
   },
   "outputs": [
    {
     "name": "stdout",
     "output_type": "stream",
     "text": [
      "2         12.0\n",
      "15        96.0\n",
      "22        72.0\n",
      "29       175.0\n",
      "41       135.0\n",
      "         ...  \n",
      "30885    228.0\n",
      "30907     97.0\n",
      "30948     34.0\n",
      "30979     95.0\n",
      "31007    102.0\n",
      "Name: date_unregistration, Length: 1434, dtype: float64\n",
      "750      153.0\n",
      "753      139.0\n",
      "756       27.0\n",
      "758       59.0\n",
      "763       86.0\n",
      "         ...  \n",
      "23899    216.0\n",
      "23900     79.0\n",
      "23904     38.0\n",
      "23908     73.0\n",
      "23909    200.0\n",
      "Name: date_unregistration, Length: 1061, dtype: float64\n",
      "398      164.0\n",
      "402      235.0\n",
      "404      241.0\n",
      "411      207.0\n",
      "415      143.0\n",
      "         ...  \n",
      "32576     58.0\n",
      "32577     74.0\n",
      "32578     73.0\n",
      "32586     48.0\n",
      "32591    101.0\n",
      "Name: date_unregistration, Length: 2842, dtype: float64\n",
      "4752     108.0\n",
      "4753      83.0\n",
      "4769     108.0\n",
      "4777     163.0\n",
      "4781     173.0\n",
      "         ...  \n",
      "31820    191.0\n",
      "31825    220.0\n",
      "31828     33.0\n",
      "31833     44.0\n",
      "31835    156.0\n",
      "Name: date_unregistration, Length: 1638, dtype: float64\n"
     ]
    }
   ],
   "source": [
    "firstdata = data[data['code_presentation'] == '2013J']\n",
    "firstdata = firstdata[firstdata['date_unregistration'] > 0]\n",
    "seconddata = data[data['code_presentation'] == '2013B']\n",
    "seconddata = seconddata[seconddata['date_unregistration'] > 0]\n",
    "thirddata = data[data['code_presentation'] == '2014J']\n",
    "thirddata = thirddata[thirddata['date_unregistration'] > 0]\n",
    "fourthdata = data[data['code_presentation'] == '2014B']\n",
    "fourthdata = fourthdata[fourthdata['date_unregistration'] > 0]\n",
    "print(firstdata['date_unregistration'])\n",
    "print(seconddata['date_unregistration'])\n",
    "print(thirddata['date_unregistration'])\n",
    "print(fourthdata['date_unregistration'])"
   ]
  },
  {
   "cell_type": "code",
   "execution_count": 12,
   "id": "1774d556-8d52-4baa-a8b7-1c4c2733486b",
   "metadata": {
    "ExecuteTime": {
     "end_time": "2024-04-20T19:46:43.464723Z",
     "start_time": "2024-04-20T19:46:43.444253Z"
    }
   },
   "outputs": [
    {
     "name": "stdout",
     "output_type": "stream",
     "text": [
      "2         12.0\n",
      "15        96.0\n",
      "22        72.0\n",
      "29       175.0\n",
      "41       135.0\n",
      "         ...  \n",
      "30956    -65.0\n",
      "30962   -143.0\n",
      "30979     95.0\n",
      "30982    -91.0\n",
      "31007    102.0\n",
      "Name: date_unregistration, Length: 2124, dtype: float64\n",
      "750      153.0\n",
      "753      139.0\n",
      "756       27.0\n",
      "757      -54.0\n",
      "758       59.0\n",
      "         ...  \n",
      "23899    216.0\n",
      "23900     79.0\n",
      "23904     38.0\n",
      "23908     73.0\n",
      "23909    200.0\n",
      "Name: date_unregistration, Length: 1345, dtype: float64\n",
      "398      164.0\n",
      "402      235.0\n",
      "404      241.0\n",
      "411      207.0\n",
      "415      143.0\n",
      "         ...  \n",
      "32576     58.0\n",
      "32577     74.0\n",
      "32578     73.0\n",
      "32586     48.0\n",
      "32591    101.0\n",
      "Name: date_unregistration, Length: 3737, dtype: float64\n",
      "4752     108.0\n",
      "4753      83.0\n",
      "4765     -56.0\n",
      "4766     -50.0\n",
      "4769     108.0\n",
      "         ...  \n",
      "31820    191.0\n",
      "31825    220.0\n",
      "31828     33.0\n",
      "31833     44.0\n",
      "31835    156.0\n",
      "Name: date_unregistration, Length: 2447, dtype: float64\n"
     ]
    }
   ],
   "source": [
    "firstdata = data[data['code_presentation'] == '2013J']\n",
    "firstdata = firstdata[firstdata['date_unregistration'] != 0]\n",
    "seconddata = data[data['code_presentation'] == '2013B']\n",
    "seconddata = seconddata[seconddata['date_unregistration'] != 0]\n",
    "thirddata = data[data['code_presentation'] == '2014J']\n",
    "thirddata = thirddata[thirddata['date_unregistration'] != 0]\n",
    "fourthdata = data[data['code_presentation'] == '2014B']\n",
    "fourthdata = fourthdata[fourthdata['date_unregistration'] != 0]\n",
    "print(firstdata['date_unregistration'])\n",
    "print(seconddata['date_unregistration'])\n",
    "print(thirddata['date_unregistration'])\n",
    "print(fourthdata['date_unregistration'])"
   ]
  },
  {
   "cell_type": "code",
   "execution_count": 13,
   "id": "197dd82a-5ad1-4077-aea3-5c723b0d7363",
   "metadata": {
    "ExecuteTime": {
     "end_time": "2024-04-20T19:46:44.340458Z",
     "start_time": "2024-04-20T19:46:44.291900Z"
    }
   },
   "outputs": [
    {
     "name": "stdout",
     "output_type": "stream",
     "text": [
      "2         12.0\n",
      "15        96.0\n",
      "22        72.0\n",
      "29       175.0\n",
      "41       135.0\n",
      "         ...  \n",
      "30956    -65.0\n",
      "30962   -143.0\n",
      "30979     95.0\n",
      "30982    -91.0\n",
      "31007    102.0\n",
      "Name: date_unregistration, Length: 2124, dtype: float64\n",
      "750      153.0\n",
      "753      139.0\n",
      "756       27.0\n",
      "757      -54.0\n",
      "758       59.0\n",
      "         ...  \n",
      "23899    216.0\n",
      "23900     79.0\n",
      "23904     38.0\n",
      "23908     73.0\n",
      "23909    200.0\n",
      "Name: date_unregistration, Length: 1345, dtype: float64\n",
      "398      164.0\n",
      "402      235.0\n",
      "404      241.0\n",
      "411      207.0\n",
      "415      143.0\n",
      "         ...  \n",
      "32576     58.0\n",
      "32577     74.0\n",
      "32578     73.0\n",
      "32586     48.0\n",
      "32591    101.0\n",
      "Name: date_unregistration, Length: 3737, dtype: float64\n",
      "4752     108.0\n",
      "4753      83.0\n",
      "4765     -56.0\n",
      "4766     -50.0\n",
      "4769     108.0\n",
      "         ...  \n",
      "31820    191.0\n",
      "31825    220.0\n",
      "31828     33.0\n",
      "31833     44.0\n",
      "31835    156.0\n",
      "Name: date_unregistration, Length: 2447, dtype: float64\n"
     ]
    }
   ],
   "source": [
    "print(firstdata['date_unregistration'])\n",
    "print(seconddata['date_unregistration'])\n",
    "print(thirddata['date_unregistration'])\n",
    "print(fourthdata['date_unregistration'])"
   ]
  },
  {
   "cell_type": "code",
   "execution_count": 2,
   "id": "cfa8de72-6400-4cbd-aa4e-9a8b7fed0215",
   "metadata": {
    "ExecuteTime": {
     "end_time": "2024-04-28T22:42:53.994259Z",
     "start_time": "2024-04-28T22:42:53.392593Z"
    }
   },
   "outputs": [
    {
     "ename": "NameError",
     "evalue": "name 'VLE' is not defined",
     "output_type": "error",
     "traceback": [
      "\u001B[0;31m---------------------------------------------------------------------------\u001B[0m",
      "\u001B[0;31mNameError\u001B[0m                                 Traceback (most recent call last)",
      "Cell \u001B[0;32mIn[2], line 1\u001B[0m\n\u001B[0;32m----> 1\u001B[0m VLE \u001B[38;5;241m=\u001B[39m VLE[VLE[\u001B[38;5;124m'\u001B[39m\u001B[38;5;124mdate\u001B[39m\u001B[38;5;124m'\u001B[39m] \u001B[38;5;241m>\u001B[39m\u001B[38;5;241m=\u001B[39m \u001B[38;5;241m0\u001B[39m]\n\u001B[1;32m      2\u001B[0m VLE \u001B[38;5;241m=\u001B[39m VLE\u001B[38;5;241m.\u001B[39mgroupby([\u001B[38;5;124m'\u001B[39m\u001B[38;5;124mcode_module\u001B[39m\u001B[38;5;124m'\u001B[39m, \u001B[38;5;124m'\u001B[39m\u001B[38;5;124mcode_presentation\u001B[39m\u001B[38;5;124m'\u001B[39m, \u001B[38;5;124m'\u001B[39m\u001B[38;5;124mid_student\u001B[39m\u001B[38;5;124m'\u001B[39m])[\u001B[38;5;124m'\u001B[39m\u001B[38;5;124msum_click\u001B[39m\u001B[38;5;124m'\u001B[39m]\u001B[38;5;241m.\u001B[39msum()\u001B[38;5;241m.\u001B[39mreset_index()\n\u001B[1;32m      3\u001B[0m \u001B[38;5;28mprint\u001B[39m(VLE)\n",
      "\u001B[0;31mNameError\u001B[0m: name 'VLE' is not defined"
     ]
    }
   ],
   "source": [
    "VLE = VLE[VLE['date'] >= 0]\n",
    "VLE = VLE.groupby(['code_module', 'code_presentation', 'id_student'])['sum_click'].sum().reset_index()\n",
    "print(VLE)"
   ]
  },
  {
   "cell_type": "code",
   "outputs": [],
   "source": [],
   "metadata": {
    "collapsed": false
   },
   "id": "f4da761a7e6ebc93"
  }
 ],
 "metadata": {
  "kernelspec": {
   "display_name": "Python 3 (ipykernel)",
   "language": "python",
   "name": "python3"
  },
  "language_info": {
   "codemirror_mode": {
    "name": "ipython",
    "version": 3
   },
   "file_extension": ".py",
   "mimetype": "text/x-python",
   "name": "python",
   "nbconvert_exporter": "python",
   "pygments_lexer": "ipython3",
   "version": "3.12.2"
  }
 },
 "nbformat": 4,
 "nbformat_minor": 5
}
